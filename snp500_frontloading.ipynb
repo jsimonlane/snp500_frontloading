{
 "cells": [
  {
   "cell_type": "code",
   "execution_count": 4,
   "id": "8412058e-5d66-46ae-bad9-87b0544c8919",
   "metadata": {},
   "outputs": [],
   "source": [
    "import pandas as pd\n",
    "import matplotlib\n",
    "import re"
   ]
  },
  {
   "cell_type": "code",
   "execution_count": 8,
   "id": "2f739e56-5f5d-411a-b8fd-5d90b1c09e2c",
   "metadata": {},
   "outputs": [],
   "source": [
    "# iPython magic -- put the project directory here if that fails\n",
    "current_directory = %pwd"
   ]
  },
  {
   "cell_type": "code",
   "execution_count": 13,
   "id": "7fd4d2b7-1564-4d69-ae5d-903c0111a565",
   "metadata": {},
   "outputs": [],
   "source": [
    "def create_snp_df():    \n",
    "    path = f\"{current_directory}/raw_data/sp500.csv\"\n",
    "    df = pd.read_csv(path)\n",
    "    dates = pd.to_datetime(df.Date)\n",
    "    df['date'] = dates\n",
    "    dft = df[['date', 'Close']]\n",
    "    dft = dft.set_index('date')\n",
    "\n",
    "    return dft"
   ]
  },
  {
   "cell_type": "code",
   "execution_count": 14,
   "id": "235731c5-516e-4875-b2f6-547f622f4c93",
   "metadata": {},
   "outputs": [
    {
     "data": {
      "text/html": [
       "<div>\n",
       "<style scoped>\n",
       "    .dataframe tbody tr th:only-of-type {\n",
       "        vertical-align: middle;\n",
       "    }\n",
       "\n",
       "    .dataframe tbody tr th {\n",
       "        vertical-align: top;\n",
       "    }\n",
       "\n",
       "    .dataframe thead th {\n",
       "        text-align: right;\n",
       "    }\n",
       "</style>\n",
       "<table border=\"1\" class=\"dataframe\">\n",
       "  <thead>\n",
       "    <tr style=\"text-align: right;\">\n",
       "      <th></th>\n",
       "      <th>Close</th>\n",
       "    </tr>\n",
       "    <tr>\n",
       "      <th>date</th>\n",
       "      <th></th>\n",
       "    </tr>\n",
       "  </thead>\n",
       "  <tbody>\n",
       "    <tr>\n",
       "      <th>1985-01-01</th>\n",
       "      <td>179.630005</td>\n",
       "    </tr>\n",
       "    <tr>\n",
       "      <th>1985-02-01</th>\n",
       "      <td>181.179993</td>\n",
       "    </tr>\n",
       "    <tr>\n",
       "      <th>1985-03-01</th>\n",
       "      <td>180.660004</td>\n",
       "    </tr>\n",
       "    <tr>\n",
       "      <th>1985-04-01</th>\n",
       "      <td>179.830002</td>\n",
       "    </tr>\n",
       "    <tr>\n",
       "      <th>1985-05-01</th>\n",
       "      <td>189.550003</td>\n",
       "    </tr>\n",
       "  </tbody>\n",
       "</table>\n",
       "</div>"
      ],
      "text/plain": [
       "                 Close\n",
       "date                  \n",
       "1985-01-01  179.630005\n",
       "1985-02-01  181.179993\n",
       "1985-03-01  180.660004\n",
       "1985-04-01  179.830002\n",
       "1985-05-01  189.550003"
      ]
     },
     "execution_count": 14,
     "metadata": {},
     "output_type": "execute_result"
    }
   ],
   "source": [
    "snp_df = create_snp_df()\n",
    "snp_df.head()"
   ]
  },
  {
   "cell_type": "code",
   "execution_count": 15,
   "id": "ef8b153d-38a2-4413-9a4d-3f82e8f01d44",
   "metadata": {},
   "outputs": [],
   "source": [
    "def str_to_year(year: str):\n",
    "    return pd.to_datetime(year, format='%Y')"
   ]
  },
  {
   "cell_type": "code",
   "execution_count": 16,
   "id": "d2db738a-9d71-448f-a8d6-6fe30bcef29b",
   "metadata": {},
   "outputs": [],
   "source": [
    "def create_limits_df():\n",
    "    limit_path = f'{current_directory}/raw_data/401k.csv'\n",
    "    \n",
    "    pattern = r\"^(\\w+)\\s\\$([\\w,\\.]+)\\s+.*$\"\n",
    "    compiled_pattern = re.compile(pattern)\n",
    "\n",
    "    l = []\n",
    "    with open(limit_path, 'r') as file:\n",
    "        for line in file:\n",
    "            match = compiled_pattern.match(line)\n",
    "            \n",
    "            # Check if the match was successful and extract capture groups\n",
    "            if match:\n",
    "                year = match.group(1)\n",
    "                clean_year = str_to_year(year)\n",
    "                \n",
    "                employee = match.group(2)\n",
    "                no_comma = employee.replace(',', '')\n",
    "                clean_employee = float(no_comma)\n",
    "    \n",
    "                r = (clean_year, clean_employee)\n",
    "                l.append(r)\n",
    "            else:\n",
    "                print(\"No match found:\", line)\n",
    "    limits = pd.DataFrame(l)\n",
    "    limits.columns = ['year', 'limit']\n",
    "    return limits"
   ]
  },
  {
   "cell_type": "code",
   "execution_count": 17,
   "id": "809b2d00-36c2-4c56-a246-04dcd8d49f6a",
   "metadata": {},
   "outputs": [
    {
     "name": "stdout",
     "output_type": "stream",
     "text": [
      "No match found: year \temployee \temployer \tcatchup\n",
      "\n"
     ]
    },
    {
     "data": {
      "text/html": [
       "<div>\n",
       "<style scoped>\n",
       "    .dataframe tbody tr th:only-of-type {\n",
       "        vertical-align: middle;\n",
       "    }\n",
       "\n",
       "    .dataframe tbody tr th {\n",
       "        vertical-align: top;\n",
       "    }\n",
       "\n",
       "    .dataframe thead th {\n",
       "        text-align: right;\n",
       "    }\n",
       "</style>\n",
       "<table border=\"1\" class=\"dataframe\">\n",
       "  <thead>\n",
       "    <tr style=\"text-align: right;\">\n",
       "      <th></th>\n",
       "      <th>year</th>\n",
       "      <th>limit</th>\n",
       "    </tr>\n",
       "  </thead>\n",
       "  <tbody>\n",
       "    <tr>\n",
       "      <th>0</th>\n",
       "      <td>2024-01-01</td>\n",
       "      <td>23000.0</td>\n",
       "    </tr>\n",
       "    <tr>\n",
       "      <th>1</th>\n",
       "      <td>2023-01-01</td>\n",
       "      <td>22500.0</td>\n",
       "    </tr>\n",
       "    <tr>\n",
       "      <th>2</th>\n",
       "      <td>2022-01-01</td>\n",
       "      <td>20500.0</td>\n",
       "    </tr>\n",
       "    <tr>\n",
       "      <th>3</th>\n",
       "      <td>2021-01-01</td>\n",
       "      <td>19500.0</td>\n",
       "    </tr>\n",
       "    <tr>\n",
       "      <th>4</th>\n",
       "      <td>2020-01-01</td>\n",
       "      <td>19500.0</td>\n",
       "    </tr>\n",
       "  </tbody>\n",
       "</table>\n",
       "</div>"
      ],
      "text/plain": [
       "        year    limit\n",
       "0 2024-01-01  23000.0\n",
       "1 2023-01-01  22500.0\n",
       "2 2022-01-01  20500.0\n",
       "3 2021-01-01  19500.0\n",
       "4 2020-01-01  19500.0"
      ]
     },
     "execution_count": 17,
     "metadata": {},
     "output_type": "execute_result"
    }
   ],
   "source": [
    "limits_df = create_limits_df()\n",
    "limits_df.head()"
   ]
  },
  {
   "cell_type": "markdown",
   "id": "109ebead-3640-4de5-a1db-d738a6663989",
   "metadata": {},
   "source": [
    "# The experiment\n",
    "\n",
    "We now have our two dataframes, and we want to conduct the following experiments.\n",
    "\n",
    "* Case Frontload: suppose I put all my 401k limit into the market at the January 1 price.\n",
    "* Case DCA: suppose I put 1/12 of our total money in each month.\n",
    "\n",
    "For each case, we want to operate for all the years from `[start, end]`, inclusive. Then, the question is, how much money do we have at the January 1 price of year `end+1`?"
   ]
  },
  {
   "cell_type": "code",
   "execution_count": 18,
   "id": "26e2c7fe-4ccf-42b7-8df0-2f338956941f",
   "metadata": {},
   "outputs": [],
   "source": [
    "# Methodology: Vectorize everything."
   ]
  },
  {
   "cell_type": "code",
   "execution_count": 19,
   "id": "76980b89-fd19-4cdc-a3f0-421192b00838",
   "metadata": {},
   "outputs": [],
   "source": [
    "def make_contribution_df(start: int, end: int, snp_df, limits_df) -> float:\n",
    "    r = []\n",
    "    for year in range(start, end+1):\n",
    "\n",
    "        # Extract the limit\n",
    "        filtered_df = limits_df[limits_df['year'].dt.year == year]\n",
    "        assert(filtered_df.shape[0] == 1)\n",
    "        limit = filtered_df.iloc[0].limit\n",
    "\n",
    "        monthly = limit / 12\n",
    "        yearly = limit\n",
    "        \n",
    "        first_of_months = [pd.Timestamp(year=year, month=month, day=1) for month in range(1, 13)]\n",
    "        monthly = [limit / 12 for _ in range(12)]\n",
    "        yearly = [limit if i == 0 else 0 for i in range(12)]\n",
    "\n",
    "        tup = (first_of_months, monthly, yearly)\n",
    "\n",
    "        sub_df = pd.DataFrame(tup).transpose()\n",
    "        r.append(sub_df)\n",
    "    final = pd.concat(r)\n",
    "    final.columns = ['date', 'dca', 'frontload']\n",
    "    final = final.set_index('date')\n",
    "    return final\n",
    "\n",
    "\n",
    "        # Theoretically, we could probably vectorize to make this a lot cleaner."
   ]
  },
  {
   "cell_type": "code",
   "execution_count": 20,
   "id": "d25eedb0-456e-479f-b6d7-e91dbddf1032",
   "metadata": {},
   "outputs": [
    {
     "data": {
      "text/html": [
       "<div>\n",
       "<style scoped>\n",
       "    .dataframe tbody tr th:only-of-type {\n",
       "        vertical-align: middle;\n",
       "    }\n",
       "\n",
       "    .dataframe tbody tr th {\n",
       "        vertical-align: top;\n",
       "    }\n",
       "\n",
       "    .dataframe thead th {\n",
       "        text-align: right;\n",
       "    }\n",
       "</style>\n",
       "<table border=\"1\" class=\"dataframe\">\n",
       "  <thead>\n",
       "    <tr style=\"text-align: right;\">\n",
       "      <th></th>\n",
       "      <th>dca</th>\n",
       "      <th>frontload</th>\n",
       "    </tr>\n",
       "    <tr>\n",
       "      <th>date</th>\n",
       "      <th></th>\n",
       "      <th></th>\n",
       "    </tr>\n",
       "  </thead>\n",
       "  <tbody>\n",
       "    <tr>\n",
       "      <th>1987-01-01</th>\n",
       "      <td>583.333333</td>\n",
       "      <td>7000.0</td>\n",
       "    </tr>\n",
       "    <tr>\n",
       "      <th>1987-02-01</th>\n",
       "      <td>583.333333</td>\n",
       "      <td>0</td>\n",
       "    </tr>\n",
       "    <tr>\n",
       "      <th>1987-03-01</th>\n",
       "      <td>583.333333</td>\n",
       "      <td>0</td>\n",
       "    </tr>\n",
       "    <tr>\n",
       "      <th>1987-04-01</th>\n",
       "      <td>583.333333</td>\n",
       "      <td>0</td>\n",
       "    </tr>\n",
       "    <tr>\n",
       "      <th>1987-05-01</th>\n",
       "      <td>583.333333</td>\n",
       "      <td>0</td>\n",
       "    </tr>\n",
       "    <tr>\n",
       "      <th>...</th>\n",
       "      <td>...</td>\n",
       "      <td>...</td>\n",
       "    </tr>\n",
       "    <tr>\n",
       "      <th>2023-08-01</th>\n",
       "      <td>1875.0</td>\n",
       "      <td>0</td>\n",
       "    </tr>\n",
       "    <tr>\n",
       "      <th>2023-09-01</th>\n",
       "      <td>1875.0</td>\n",
       "      <td>0</td>\n",
       "    </tr>\n",
       "    <tr>\n",
       "      <th>2023-10-01</th>\n",
       "      <td>1875.0</td>\n",
       "      <td>0</td>\n",
       "    </tr>\n",
       "    <tr>\n",
       "      <th>2023-11-01</th>\n",
       "      <td>1875.0</td>\n",
       "      <td>0</td>\n",
       "    </tr>\n",
       "    <tr>\n",
       "      <th>2023-12-01</th>\n",
       "      <td>1875.0</td>\n",
       "      <td>0</td>\n",
       "    </tr>\n",
       "  </tbody>\n",
       "</table>\n",
       "<p>444 rows × 2 columns</p>\n",
       "</div>"
      ],
      "text/plain": [
       "                   dca frontload\n",
       "date                            \n",
       "1987-01-01  583.333333    7000.0\n",
       "1987-02-01  583.333333         0\n",
       "1987-03-01  583.333333         0\n",
       "1987-04-01  583.333333         0\n",
       "1987-05-01  583.333333         0\n",
       "...                ...       ...\n",
       "2023-08-01      1875.0         0\n",
       "2023-09-01      1875.0         0\n",
       "2023-10-01      1875.0         0\n",
       "2023-11-01      1875.0         0\n",
       "2023-12-01      1875.0         0\n",
       "\n",
       "[444 rows x 2 columns]"
      ]
     },
     "execution_count": 20,
     "metadata": {},
     "output_type": "execute_result"
    }
   ],
   "source": [
    "# start = 1987\n",
    "# end = 2023\n",
    "\n",
    "start = 1987\n",
    "end = 2023\n",
    "\n",
    "d = make_contribution_df(start, end, snp_df, limits_df)\n",
    "d"
   ]
  },
  {
   "cell_type": "code",
   "execution_count": 21,
   "id": "e8369604-9897-4791-bc49-ab927a639d4d",
   "metadata": {},
   "outputs": [
    {
     "data": {
      "text/html": [
       "<div>\n",
       "<style scoped>\n",
       "    .dataframe tbody tr th:only-of-type {\n",
       "        vertical-align: middle;\n",
       "    }\n",
       "\n",
       "    .dataframe tbody tr th {\n",
       "        vertical-align: top;\n",
       "    }\n",
       "\n",
       "    .dataframe thead th {\n",
       "        text-align: right;\n",
       "    }\n",
       "</style>\n",
       "<table border=\"1\" class=\"dataframe\">\n",
       "  <thead>\n",
       "    <tr style=\"text-align: right;\">\n",
       "      <th></th>\n",
       "      <th>dca</th>\n",
       "      <th>frontload</th>\n",
       "      <th>Close</th>\n",
       "    </tr>\n",
       "    <tr>\n",
       "      <th>date</th>\n",
       "      <th></th>\n",
       "      <th></th>\n",
       "      <th></th>\n",
       "    </tr>\n",
       "  </thead>\n",
       "  <tbody>\n",
       "    <tr>\n",
       "      <th>1987-01-01</th>\n",
       "      <td>583.333333</td>\n",
       "      <td>7000.0</td>\n",
       "      <td>274.079987</td>\n",
       "    </tr>\n",
       "    <tr>\n",
       "      <th>1987-02-01</th>\n",
       "      <td>583.333333</td>\n",
       "      <td>0</td>\n",
       "      <td>284.200012</td>\n",
       "    </tr>\n",
       "    <tr>\n",
       "      <th>1987-03-01</th>\n",
       "      <td>583.333333</td>\n",
       "      <td>0</td>\n",
       "      <td>291.700012</td>\n",
       "    </tr>\n",
       "    <tr>\n",
       "      <th>1987-04-01</th>\n",
       "      <td>583.333333</td>\n",
       "      <td>0</td>\n",
       "      <td>288.359985</td>\n",
       "    </tr>\n",
       "    <tr>\n",
       "      <th>1987-05-01</th>\n",
       "      <td>583.333333</td>\n",
       "      <td>0</td>\n",
       "      <td>290.100006</td>\n",
       "    </tr>\n",
       "  </tbody>\n",
       "</table>\n",
       "</div>"
      ],
      "text/plain": [
       "                   dca frontload       Close\n",
       "date                                        \n",
       "1987-01-01  583.333333    7000.0  274.079987\n",
       "1987-02-01  583.333333         0  284.200012\n",
       "1987-03-01  583.333333         0  291.700012\n",
       "1987-04-01  583.333333         0  288.359985\n",
       "1987-05-01  583.333333         0  290.100006"
      ]
     },
     "execution_count": 21,
     "metadata": {},
     "output_type": "execute_result"
    }
   ],
   "source": [
    "merged = d.merge(snp_df, left_index=True, right_index=True)\n",
    "\n",
    "merged.head()"
   ]
  },
  {
   "cell_type": "code",
   "execution_count": 22,
   "id": "3fa973e9-c798-4d85-acf2-2bb7685f4351",
   "metadata": {},
   "outputs": [],
   "source": [
    "dca_shares_bought_today = merged.dca / merged.Close\n",
    "merged['dca_shares_bought_today'] = dca_shares_bought_today\n",
    "merged['dca_cumsum'] = dca_shares_bought_today.cumsum()\n",
    "merged['dca_value'] = merged['dca_cumsum'] * merged['Close']\n",
    "\n",
    "frontload_bought_today = merged.frontload / merged.Close\n",
    "merged['frontload_bought_today'] = frontload_bought_today\n",
    "merged['frontload_cumsum'] = frontload_bought_today.cumsum()\n",
    "merged['frontload_value'] = merged['frontload_cumsum'] * merged['Close']"
   ]
  },
  {
   "cell_type": "code",
   "execution_count": 23,
   "id": "7255bd7e-7c48-4955-b90f-610993d88552",
   "metadata": {},
   "outputs": [
    {
     "data": {
      "text/plain": [
       "<Axes: xlabel='date'>"
      ]
     },
     "execution_count": 23,
     "metadata": {},
     "output_type": "execute_result"
    },
    {
     "data": {
      "image/png": "[encoded data removed]",
      "text/plain": [
       "<Figure size 640x480 with 1 Axes>"
      ]
     },
     "metadata": {},
     "output_type": "display_data"
    }
   ],
   "source": [
    "year_end = merged.index.month == 12\n",
    "results = merged.loc[year_end][['frontload_value', 'dca_value']]\n",
    "results.plot()"
   ]
  },
  {
   "cell_type": "code",
   "execution_count": 24,
   "id": "bfe395f4-4a00-4daa-8b59-f91f03d4e72d",
   "metadata": {},
   "outputs": [],
   "source": [
    "add_commas = lambda x: \"{:,}\".format(int(x))"
   ]
  },
  {
   "cell_type": "code",
   "execution_count": 25,
   "id": "3b0e8f24-f590-4b7d-b6a1-8f3ae599aa84",
   "metadata": {},
   "outputs": [
    {
     "name": "stdout",
     "output_type": "stream",
     "text": [
      "|   date | frontload_value   | dca_value   |\n",
      "|-------:|:------------------|:------------|\n",
      "|   1987 | 6,310             | 6,116       |\n",
      "|   1988 | 14,993            | 14,457      |\n",
      "|   1989 | 28,140            | 26,700      |\n",
      "|   1990 | 34,301            | 32,891      |\n",
      "|   1991 | 53,602            | 50,828      |\n",
      "|   1992 | 65,298            | 62,219      |\n",
      "|   1993 | 79,466            | 75,864      |\n",
      "|   1994 | 87,054            | 83,914      |\n",
      "|   1995 | 128,847           | 123,016     |\n",
      "|   1996 | 166,020           | 158,403     |\n",
      "|   1997 | 229,227           | 218,123     |\n",
      "|   1998 | 302,899           | 287,646     |\n",
      "|   1999 | 373,525           | 354,875     |\n",
      "|   2000 | 345,594           | 328,676     |\n",
      "|   2001 | 309,344           | 296,029     |\n",
      "|   2002 | 245,626           | 236,766     |\n",
      "|   2003 | 326,016           | 313,117     |\n",
      "|   2004 | 369,264           | 355,181     |\n",
      "|   2005 | 395,140           | 380,317     |\n",
      "|   2006 | 465,576           | 448,275     |\n",
      "|   2007 | 497,834           | 479,508     |\n",
      "|   2008 | 316,394           | 306,785     |\n",
      "|   2009 | 412,880           | 398,455     |\n",
      "|   2010 | 484,981           | 467,800     |\n",
      "|   2011 | 501,100           | 484,026     |\n",
      "|   2012 | 586,749           | 566,415     |\n",
      "|   2013 | 782,026           | 753,735     |\n",
      "|   2014 | 891,317           | 858,154     |\n",
      "|   2015 | 903,282           | 869,862     |\n",
      "|   2016 | 1,010,180         | 971,978     |\n",
      "|   2017 | 1,227,475         | 1,180,300   |\n",
      "|   2018 | 1,167,337         | 1,123,645   |\n",
      "|   2019 | 1,527,143         | 1,469,079   |\n",
      "|   2020 | 1,798,147         | 1,730,926   |\n",
      "|   2021 | 2,306,741         | 2,218,258   |\n",
      "|   2022 | 1,875,676         | 1,806,359   |\n",
      "|   2023 | 2,356,488         | 2,268,951   |\n"
     ]
    }
   ],
   "source": [
    "# https://finance.yahoo.com/quote/%5EGSPC/history/\n",
    "# https://dqydj.com/historical-401k-contribution-limit/\n",
    "\n",
    "cleaned = results.map(add_commas)\n",
    "cleaned.index = cleaned.index.year\n",
    "\n",
    "print(cleaned.to_markdown())"
   ]
  },
  {
   "cell_type": "code",
   "execution_count": 26,
   "id": "34e38556-d939-42ed-9631-a973f6b410b9",
   "metadata": {},
   "outputs": [
    {
     "name": "stdout",
     "output_type": "stream",
     "text": [
      "1987 2023\n"
     ]
    },
    {
     "data": {
      "text/plain": [
       "1.0385806402888802"
      ]
     },
     "execution_count": 26,
     "metadata": {},
     "output_type": "execute_result"
    }
   ],
   "source": [
    "print(start, end)\n",
    "last = results[['frontload_value', 'dca_value']].iloc[-1]\n",
    "last['frontload_value'] / last['dca_value']"
   ]
  }
 ],
 "metadata": {
  "kernelspec": {
   "display_name": "Python 3 (ipykernel)",
   "language": "python",
   "name": "python3"
  },
  "language_info": {
   "codemirror_mode": {
    "name": "ipython",
    "version": 3
   },
   "file_extension": ".py",
   "mimetype": "text/x-python",
   "name": "python",
   "nbconvert_exporter": "python",
   "pygments_lexer": "ipython3",
   "version": "3.12.0"
  }
 },
 "nbformat": 4,
 "nbformat_minor": 5
}
